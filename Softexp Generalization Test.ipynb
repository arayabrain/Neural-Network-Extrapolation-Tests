{
 "cells": [
  {
   "cell_type": "code",
   "execution_count": 1,
   "metadata": {
    "collapsed": false
   },
   "outputs": [
    {
     "name": "stdout",
     "output_type": "stream",
     "text": [
      "Populating the interactive namespace from numpy and matplotlib\n",
      "Couldn't import dot_parser, loading of dot files will not be possible.\n"
     ]
    },
    {
     "name": "stderr",
     "output_type": "stream",
     "text": [
      "Using gpu device 0: GeForce GTX880M (CNMeM is disabled, cuDNN not available)\n"
     ]
    }
   ],
   "source": [
    "# Testing the generalization performance of the soft exponential function for extrapolation\n",
    "# \"A continuum among logarithmic, linear, and exponential functions, and its potential to improve generalization in neural networks\"\n",
    "# Luke B. Godfrey, Michael S. Gashler\n",
    "# http://arxiv.org/abs/1602.01321\n",
    "\n",
    "%pylab inline\n",
    "\n",
    "import numpy as np\n",
    "import pandas as pd\n",
    "\n",
    "import theano\n",
    "import theano.tensor as T\n",
    "import lasagne\n",
    "\n",
    "import matplotlib.pyplot as plt"
   ]
  },
  {
   "cell_type": "code",
   "execution_count": 2,
   "metadata": {
    "collapsed": false
   },
   "outputs": [],
   "source": [
    "def softExp(x,a):\n",
    "    return (a<0)*(-T.log(1+abs(a)*(1e-16 + abs(x)-abs(a)))/(abs(a)+1e-16)) + \\\n",
    "           (a>0)*((T.exp(abs(a)*x)-1)/(abs(a)+1e-16)+a) + \\\n",
    "           T.eq(a,0)*x\n",
    "\n",
    "class PSoftExpLayer(lasagne.layers.MergeLayer):\n",
    "    def __init__(self, incomings, **kwargs):\n",
    "        super(PSoftExpLayer, self).__init__(incomings, **kwargs)\n",
    "\n",
    "    def get_output_for(self, inputs, **kwargs):\n",
    "        return softExp(inputs[0], inputs[1])\n",
    "\n",
    "    def get_output_shape_for(self, input_shape):\n",
    "        return input_shape[0]"
   ]
  },
  {
   "cell_type": "code",
   "execution_count": 3,
   "metadata": {
    "collapsed": false
   },
   "outputs": [],
   "source": [
    "# Noisy parabola thing in 1D\n",
    "def getLabel(x):\n",
    "    return ((0.5+x[:,0])**2)*(0.8 + 0.4*np.random.rand(x.shape[0]))\n",
    "\n",
    "train = np.random.rand( 10000, 1 )*1\n",
    "test = np.random.rand( 10000, 1 )*10\n",
    "\n",
    "trlabels = getLabel(train)\n",
    "tslabels = getLabel(test)\n",
    "\n",
    "# First, a standard dense network with ReLU to see how it works\n",
    "def buildBaseNet():\n",
    "    invar = T.matrix()\n",
    "    targ = T.vector()\n",
    "    \n",
    "    input = lasagne.layers.InputLayer(shape=(None,1), input_var = invar)\n",
    "    dense1 = lasagne.layers.DenseLayer(input, num_units = 20)\n",
    "    dense2 = lasagne.layers.DenseLayer(dense1, num_units = 20)\n",
    "    dense3 = lasagne.layers.DenseLayer(dense2, num_units = 1, nonlinearity = None)\n",
    "        \n",
    "    out = lasagne.layers.get_output(dense3)\n",
    "    params = lasagne.layers.get_all_params(dense3, trainable=True)\n",
    "    loss = T.mean( (out[:,0]-targ)**2 )\n",
    "    \n",
    "    updates = lasagne.updates.adam(loss,params,learning_rate = 1e-2)\n",
    "    train = theano.function([invar, targ], loss, updates=updates,allow_input_downcast=True)\n",
    "    test = theano.function([invar, targ],loss,allow_input_downcast=True)\n",
    "    process = theano.function([invar],out,allow_input_downcast=True)\n",
    "    return train,test,process\n",
    "\n",
    "train_base, test_base, process_base = buildBaseNet()"
   ]
  },
  {
   "cell_type": "code",
   "execution_count": 4,
   "metadata": {
    "collapsed": false
   },
   "outputs": [
    {
     "name": "stdout",
     "output_type": "stream",
     "text": [
      "1.63791, 2633.09\n",
      "0.14145, 1974.01\n",
      "0.0956823, 1996.95\n",
      "0.0908737, 1944.44\n",
      "0.0572628, 1744.36\n",
      "0.0339218, 1720.35\n",
      "0.0248888, 1594.58\n",
      "0.0228169, 1572.34\n",
      "0.0224198, 1531.46\n",
      "0.0219695, 1535.42\n"
     ]
    }
   ],
   "source": [
    "for epoch in range(100):\n",
    "    trerr = train_base(train, trlabels)\n",
    "    tserr = test_base(test, tslabels)\n",
    "    \n",
    "    if epoch%10 == 0:\n",
    "        print \"%.6g, %.6g\" % (trerr, tserr)"
   ]
  },
  {
   "cell_type": "code",
   "execution_count": 5,
   "metadata": {
    "collapsed": false
   },
   "outputs": [],
   "source": [
    "tr_y = process_base(train)\n",
    "ts_y = process_base(test)"
   ]
  },
  {
   "cell_type": "code",
   "execution_count": 6,
   "metadata": {
    "collapsed": false
   },
   "outputs": [
    {
     "data": {
      "image/png": "[encoded data removed]",
      "text/plain": [
       "<matplotlib.figure.Figure at 0x7fbeb4ea4c90>"
      ]
     },
     "metadata": {},
     "output_type": "display_data"
    }
   ],
   "source": [
    "# True label vs prediction, see if it generalizes at large x?\n",
    "\n",
    "plt.plot(trlabels[::100],tr_y[::100],'b.')\n",
    "plt.plot(tslabels[::100],ts_y[::100],'r.')\n",
    "plt.plot(np.arange(1000), np.arange(1000), 'k-')\n",
    "plt.xscale('log')\n",
    "plt.yscale('log')\n",
    "plt.xlim(1e-1,2e2)\n",
    "plt.ylim(1e-1,2e2)\n",
    "plt.show()"
   ]
  },
  {
   "cell_type": "code",
   "execution_count": 7,
   "metadata": {
    "collapsed": false
   },
   "outputs": [],
   "source": [
    "# This network just has trained parameters for the function\n",
    "\n",
    "def buildSMNet():\n",
    "    invar = T.matrix()\n",
    "    targ = T.vector()\n",
    "    Z = T.zeros((10000,20))\n",
    "    Z2 = T.zeros((10000,1))\n",
    "    \n",
    "    input = lasagne.layers.InputLayer(shape=(None,1), input_var = invar)\n",
    "    Zinp = lasagne.layers.InputLayer(shape=(None,20), input_var = Z)\n",
    "    Zinp2 = lasagne.layers.InputLayer(shape=(None,1), input_var = Z2)\n",
    "    \n",
    "    dense1 = lasagne.layers.DenseLayer(input, num_units = 20, nonlinearity = None)\n",
    "    bias1 = lasagne.layers.BiasLayer(Zinp)\n",
    "    \n",
    "    ps1 = PSoftExpLayer([dense1,bias1])\n",
    "    \n",
    "    dense2 = lasagne.layers.DenseLayer(ps1, num_units = 1, nonlinearity = None)\n",
    "    bias2 = lasagne.layers.BiasLayer(Zinp2)\n",
    "    \n",
    "    ps2 = PSoftExpLayer([dense2,bias2])\n",
    "        \n",
    "    out = lasagne.layers.get_output(ps2)\n",
    "    params = lasagne.layers.get_all_params(ps2, trainable=True)\n",
    "    loss = T.mean( (out[:,0]-targ)**2 )\n",
    "    \n",
    "    updates = lasagne.updates.adam(loss,params,learning_rate = 1e-2)\n",
    "    train = theano.function([invar, targ], loss, updates=updates,allow_input_downcast=True)\n",
    "    test = theano.function([invar, targ],loss,allow_input_downcast=True)\n",
    "    process = theano.function([invar],out,allow_input_downcast=True)\n",
    "    return train,test,process\n",
    "\n",
    "train_sm, test_sm, process_sm = buildSMNet()"
   ]
  },
  {
   "cell_type": "code",
   "execution_count": 8,
   "metadata": {
    "collapsed": false
   },
   "outputs": [
    {
     "name": "stdout",
     "output_type": "stream",
     "text": [
      "0.816905, 2266.05\n",
      "0.0966834, 1780.92\n",
      "0.0530169, 1805.35\n",
      "0.0532691, 1815.88\n",
      "0.0328109, 1692.55\n",
      "0.0277398, 1673.77\n",
      "0.0268206, 1650.96\n",
      "0.0262329, 1618.34\n",
      "0.0260072, 1620.26\n",
      "0.0259499, 1612.13\n"
     ]
    }
   ],
   "source": [
    "for epoch in range(100):\n",
    "    trerr = train_sm(train, trlabels)\n",
    "    tserr = test_sm(test, tslabels)\n",
    "    \n",
    "    if epoch%10 == 0:\n",
    "        print \"%.6g, %.6g\" % (trerr, tserr)"
   ]
  },
  {
   "cell_type": "code",
   "execution_count": 9,
   "metadata": {
    "collapsed": true
   },
   "outputs": [],
   "source": [
    "tr_y = process_sm(train)\n",
    "ts_y = process_sm(test)"
   ]
  },
  {
   "cell_type": "code",
   "execution_count": 10,
   "metadata": {
    "collapsed": false
   },
   "outputs": [
    {
     "data": {
      "image/png": "[encoded data removed]",
      "text/plain": [
       "<matplotlib.figure.Figure at 0x7fbeb4e98b50>"
      ]
     },
     "metadata": {},
     "output_type": "display_data"
    }
   ],
   "source": [
    "plt.plot(trlabels[::100],tr_y[::100],'b.')\n",
    "plt.plot(tslabels[::100],ts_y[::100],'r.')\n",
    "plt.plot(np.arange(1000), np.arange(1000), 'k-')\n",
    "plt.xscale('log')\n",
    "plt.yscale('log')\n",
    "plt.xlim(1e-1,2e2)\n",
    "plt.ylim(1e-1,2e2)\n",
    "plt.show()"
   ]
  },
  {
   "cell_type": "code",
   "execution_count": 11,
   "metadata": {
    "collapsed": false
   },
   "outputs": [],
   "source": [
    "# This network uses the output of a layer to determine the parameters for the function\n",
    "\n",
    "def buildSM2Net():\n",
    "    invar = T.matrix()\n",
    "    targ = T.vector()\n",
    "    \n",
    "    input = lasagne.layers.InputLayer(shape=(None,1), input_var = invar)\n",
    "    \n",
    "    dense1 = lasagne.layers.DenseLayer(input, num_units = 20, nonlinearity = None)\n",
    "    dense1b = lasagne.layers.DenseLayer(input, num_units = 20, nonlinearity = lasagne.nonlinearities.tanh)\n",
    "    \n",
    "    ps1 = PSoftExpLayer([dense1,dense1b])\n",
    "    \n",
    "    dense2 = lasagne.layers.DenseLayer(ps1, num_units = 1, nonlinearity = None)\n",
    "    dense2b = lasagne.layers.DenseLayer(ps1, num_units = 1, nonlinearity = lasagne.nonlinearities.tanh)\n",
    "    \n",
    "    ps2 = PSoftExpLayer([dense2,dense2b])\n",
    "        \n",
    "    out = lasagne.layers.get_output(ps2)\n",
    "    params = lasagne.layers.get_all_params(ps2, trainable=True)\n",
    "    loss = T.mean( (out[:,0]-targ)**2 )\n",
    "    \n",
    "    updates = lasagne.updates.adam(loss,params,learning_rate = 1e-4)\n",
    "    train = theano.function([invar, targ], loss, updates=updates,allow_input_downcast=True)\n",
    "    test = theano.function([invar, targ],loss,allow_input_downcast=True)\n",
    "    process = theano.function([invar],out,allow_input_downcast=True)\n",
    "    return train,test,process\n",
    "\n",
    "train_sm2, test_sm2, process_sm2 = buildSM2Net()"
   ]
  },
  {
   "cell_type": "code",
   "execution_count": 12,
   "metadata": {
    "collapsed": false
   },
   "outputs": [
    {
     "name": "stdout",
     "output_type": "stream",
     "text": [
      "1.42769, 2707.67\n",
      "1.37146, 2688.64\n",
      "1.31852, 2674.86\n",
      "1.26727, 2672.56\n",
      "1.21794, 2666.2\n",
      "1.17024, 2659.04\n",
      "1.12416, 2654.04\n",
      "1.08779, 2647.53\n",
      "1.04029, 2641.61\n",
      "0.998016, 2634.05\n",
      "0.957422, 2629.5\n",
      "0.9189, 2624.47\n",
      "0.889137, 2621.74\n",
      "0.848043, 2615.94\n",
      "0.815401, 2612.01\n",
      "0.780165, 2607.07\n",
      "0.750114, 2605.25\n",
      "0.714153, 2598.89\n",
      "0.683411, 2588.76\n",
      "0.66285, 2584.27\n",
      "0.634478, 2578.19\n",
      "0.606138, 2571.53\n",
      "0.576666, 2570.6\n",
      "0.549143, 2565.95\n",
      "0.519476, 2558.78\n",
      "0.494672, 2546.91\n",
      "0.479044, 2537.11\n",
      "0.447924, 2528.15\n",
      "0.433417, 2516.91\n",
      "0.40438, 2520.27\n",
      "0.383545, 2509.17\n",
      "0.363347, 2500.63\n",
      "0.343876, 2486.77\n",
      "0.325179, 2473.09\n",
      "0.307311, 2469.38\n",
      "0.290267, 2452.24\n",
      "0.273911, 2436.63\n",
      "0.258399, 2422.35\n",
      "0.243677, 2411.47\n",
      "0.229686, 2395.17\n",
      "0.216553, 2387.06\n",
      "0.20404, 2361.94\n",
      "0.192349, 2347.87\n",
      "0.181284, 2330.43\n",
      "0.170878, 2330.1\n",
      "0.176671, 2315.3\n",
      "0.152464, 2298.18\n",
      "0.154749, 2277.82\n",
      "0.136467, 2282.49\n",
      "0.137537, 2279.25\n",
      "0.128947, 2270.9\n",
      "0.120486, 2262.28\n",
      "0.111448, 2246.07\n",
      "0.10629, 2239.96\n",
      "0.101539, 2235.75\n",
      "0.0973026, 2232.73\n",
      "0.0935182, 2248.59\n",
      "0.0998457, 2249.02\n",
      "0.0869425, 2248.51\n",
      "0.0840677, 2248.33\n",
      "0.0814242, 2250.89\n",
      "0.0791628, 2252.91\n",
      "0.0772104, 2254.87\n",
      "0.0819042, 2256.69\n",
      "0.0737991, 2257.72\n",
      "0.0752819, 2259.63\n",
      "0.0729081, 2261.24\n",
      "0.0710403, 2263.17\n",
      "0.0704763, 2265.01\n",
      "0.0690776, 2267.01\n",
      "0.0679317, 2269.01\n",
      "0.0670736, 2271\n",
      "0.0657513, 2273.08\n",
      "0.0653028, 2275.29\n",
      "0.0647793, 2277.3\n",
      "0.0637562, 2279.45\n",
      "0.0630951, 2281.72\n",
      "0.0629299, 2283.94\n",
      "0.0623154, 2286.26\n",
      "0.0617614, 2288.59\n",
      "0.0616821, 2290.96\n",
      "0.0614328, 2293.38\n",
      "0.0613735, 2295.76\n",
      "0.0612974, 2298.15\n",
      "0.0613517, 2300.53\n",
      "0.0613238, 2302.87\n",
      "0.061184, 2305.18\n",
      "0.0611582, 2307.51\n",
      "0.0608955, 2309.82\n",
      "0.0608631, 2312.12\n",
      "0.0608476, 2314.43\n",
      "0.0611743, 2316.7\n",
      "0.061112, 2318.93\n",
      "0.0613433, 2321.14\n",
      "0.0613858, 2323.34\n",
      "0.0614264, 2325.55\n",
      "0.061504, 2327.73\n",
      "0.061551, 2329.88\n",
      "0.0616418, 2332.03\n",
      "0.0616872, 2334.17\n"
     ]
    }
   ],
   "source": [
    "# Needs a lot more because this is super-unstable, so have to use a tiny tiny learning rate...\n",
    "\n",
    "for epoch in range(1000):\n",
    "    trerr = train_sm2(train, trlabels)\n",
    "    tserr = test_sm2(test, tslabels)\n",
    "    \n",
    "    if epoch%10 == 0:\n",
    "        print \"%.6g, %.6g\" % (trerr, tserr)"
   ]
  },
  {
   "cell_type": "code",
   "execution_count": 13,
   "metadata": {
    "collapsed": true
   },
   "outputs": [],
   "source": [
    "tr_y = process_sm2(train)\n",
    "ts_y = process_sm2(test)"
   ]
  },
  {
   "cell_type": "code",
   "execution_count": 14,
   "metadata": {
    "collapsed": false
   },
   "outputs": [
    {
     "data": {
      "image/png": "[encoded data removed]",
      "text/plain": [
       "<matplotlib.figure.Figure at 0x7fbea60f7890>"
      ]
     },
     "metadata": {},
     "output_type": "display_data"
    }
   ],
   "source": [
    "plt.plot(trlabels[::100],tr_y[::100],'b.')\n",
    "plt.plot(tslabels[::100],ts_y[::100],'r.')\n",
    "plt.plot(np.arange(1000), np.arange(1000), 'k-')\n",
    "plt.xscale('log')\n",
    "plt.yscale('log')\n",
    "plt.xlim(1e-1,2e2)\n",
    "plt.ylim(1e-1,2e2)\n",
    "plt.show()"
   ]
  },
  {
   "cell_type": "code",
   "execution_count": null,
   "metadata": {
    "collapsed": true
   },
   "outputs": [],
   "source": []
  }
 ],
 "metadata": {
  "kernelspec": {
   "display_name": "Python 2",
   "language": "python",
   "name": "python2"
  },
  "language_info": {
   "codemirror_mode": {
    "name": "ipython",
    "version": 2
   },
   "file_extension": ".py",
   "mimetype": "text/x-python",
   "name": "python",
   "nbconvert_exporter": "python",
   "pygments_lexer": "ipython2",
   "version": "2.7.10"
  }
 },
 "nbformat": 4,
 "nbformat_minor": 0
}
